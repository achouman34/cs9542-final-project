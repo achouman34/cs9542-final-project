{
 "cells": [
  {
   "cell_type": "markdown",
   "metadata": {},
   "source": [
    "# Preprocessing files and creating metadatada for Fine-tuning image captioning model "
   ]
  },
  {
   "cell_type": "code",
   "execution_count": 1,
   "metadata": {},
   "outputs": [],
   "source": [
    "import os\n",
    "import csv"
   ]
  },
  {
   "cell_type": "code",
   "execution_count": 14,
   "metadata": {},
   "outputs": [
    {
     "name": "stdout",
     "output_type": "stream",
     "text": [
      "Written annotations to../data/indian_vehicles/train/metadata.csv \n",
      "Written annotations to../data/indian_vehicles/test/metadata.csv \n"
     ]
    }
   ],
   "source": [
    "train_images_path = \"../data/train_images\"\n",
    "train_annos_path = \"../data/train_annos\"\n",
    "train_metadata_out = \"../data/indian_vehicles/train/metadata.csv\"\n",
    "test_images_path = \"../data/test_images\"\n",
    "test_annos_path = \"../data/test_annos\"\n",
    "test_metadata_out = \"../data/indian_vehicles/test/metadata.csv\"\n",
    "\n",
    "def get_metadata(images_path, annot_path, output_csv):\n",
    "    # get the list of files in the folder\n",
    "    image_list = os.listdir(images_path)\n",
    "    with open(output_csv, mode=\"w\", newline=\"\", encoding=\"utf-8\") as file:\n",
    "        writer = csv.writer(file)\n",
    "        # write headers\n",
    "        writer.writerow([\"file_name\",\"additional_feature\"])\n",
    "\n",
    "        for image_file in image_list:\n",
    "            annot_file = os.path.splitext(image_file)[0] + \".txt\"\n",
    "            annotation_path = os.path.join(annot_path,annot_file)\n",
    "            if os.path.isfile(annotation_path):\n",
    "                with open(annotation_path, mode =\"r\", encoding =\"utf-8\") as anno_file:\n",
    "                    # reading the corresponding annotation file using the image name\n",
    "                    annotation_text = anno_file.read().strip()\n",
    "            else:\n",
    "                # if the file is a hidden one dont add it to the metadata\n",
    "                continue\n",
    "\n",
    "            writer.writerow([image_file, annotation_text])\n",
    "\n",
    "    print(f\"Written annotations to{output_csv} \")\n",
    "\n",
    "get_metadata(train_images_path, train_annos_path, train_metadata_out)\n",
    "get_metadata(test_images_path,test_annos_path, test_metadata_out)"
   ]
  }
 ],
 "metadata": {
  "kernelspec": {
   "display_name": "torch-m1-mps",
   "language": "python",
   "name": "python3"
  },
  "language_info": {
   "codemirror_mode": {
    "name": "ipython",
    "version": 3
   },
   "file_extension": ".py",
   "mimetype": "text/x-python",
   "name": "python",
   "nbconvert_exporter": "python",
   "pygments_lexer": "ipython3",
   "version": "3.11.3"
  }
 },
 "nbformat": 4,
 "nbformat_minor": 2
}
